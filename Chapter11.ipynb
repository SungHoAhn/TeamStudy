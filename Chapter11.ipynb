{
 "cells": [
  {
   "cell_type": "markdown",
   "id": "ba12c365-762c-4bc0-a268-4f14b7722ef4",
   "metadata": {},
   "source": [
    "# Chapter 11 모델평가"
   ]
  },
  {
   "cell_type": "markdown",
   "id": "83821c9e-a040-463e-afe2-093b38f34788",
   "metadata": {},
   "source": [
    "## 11.1 교차검증모델 만들기"
   ]
  },
  {
   "cell_type": "markdown",
   "id": "bdab20b0-f0b7-49e1-8477-0427559b3211",
   "metadata": {},
   "source": [
    "https://scikit-learn.org/stable/modules/cross_validation.html"
   ]
  },
  {
   "cell_type": "code",
   "execution_count": 20,
   "id": "59978900-ca75-4c50-8f76-a0c43075070b",
   "metadata": {},
   "outputs": [
    {
     "data": {
      "text/plain": [
       "((569, 30), (569,))"
      ]
     },
     "execution_count": 20,
     "metadata": {},
     "output_type": "execute_result"
    }
   ],
   "source": [
    "import numpy as np\n",
    "from sklearn.model_selection import train_test_split\n",
    "from sklearn import datasets\n",
    "from sklearn import svm\n",
    "\n",
    "X, y = datasets.load_breast_cancer(return_X_y=True)\n",
    "X.shape, y.shape\n",
    "\n",
    "#from sklearn.datasets import load_breast_cancer\n",
    "#data = load_breast_cancer()"
   ]
  },
  {
   "cell_type": "markdown",
   "id": "2e09b353-1c06-4dfa-90f0-9ac52454e47c",
   "metadata": {},
   "source": [
    "#### A. Normal split"
   ]
  },
  {
   "cell_type": "code",
   "execution_count": 21,
   "id": "80757c69-4a9e-4a36-8e79-f99706c7352c",
   "metadata": {},
   "outputs": [],
   "source": [
    "X_train, X_test, y_train, y_test = train_test_split(X, y, test_size=0.4, random_state=0)"
   ]
  },
  {
   "cell_type": "code",
   "execution_count": 22,
   "id": "5e569ce7-340f-4c67-b6bb-28dc8f5cf286",
   "metadata": {},
   "outputs": [],
   "source": [
    "clf = svm.SVC(kernel='linear', C=1).fit(X_train, y_train)"
   ]
  },
  {
   "cell_type": "code",
   "execution_count": 23,
   "id": "c8af058a-bb72-4168-8fee-d5dd814ebaac",
   "metadata": {},
   "outputs": [
    {
     "data": {
      "text/plain": [
       "0.9736842105263158"
      ]
     },
     "execution_count": 23,
     "metadata": {},
     "output_type": "execute_result"
    }
   ],
   "source": [
    "clf.score(X_test, y_test) # default = accuracy"
   ]
  },
  {
   "cell_type": "markdown",
   "id": "507e1767-ede3-40f5-868f-326f8a7a95ce",
   "metadata": {},
   "source": [
    "### B. Cross validation"
   ]
  },
  {
   "cell_type": "markdown",
   "id": "9168fa8a-f29e-4423-8712-c3d98866f03e",
   "metadata": {},
   "source": [
    "<font color=blue>cross_val_score 는 1개의 metric만 가능하고 cross_validate는 여러개의 metric이 가능함</font>\n",
    "\n",
    "https://scikit-learn.org/stable/modules/model_evaluation.html\n"
   ]
  },
  {
   "cell_type": "code",
   "execution_count": 24,
   "id": "c725f64b-d7bd-4510-804b-2a03d17b4adc",
   "metadata": {},
   "outputs": [],
   "source": [
    "from sklearn.model_selection import cross_val_score, cross_validate"
   ]
  },
  {
   "cell_type": "code",
   "execution_count": 25,
   "id": "b8bdaaf3-a713-4397-98f8-d133a642819c",
   "metadata": {},
   "outputs": [
    {
     "data": {
      "text/plain": [
       "array([0.94222973, 0.92382225, 0.97158288, 0.91474865, 0.95327876])"
      ]
     },
     "execution_count": 25,
     "metadata": {},
     "output_type": "execute_result"
    }
   ],
   "source": [
    "cross_val_score(clf, X, y, cv=5, scoring='f1_macro')"
   ]
  },
  {
   "cell_type": "code",
   "execution_count": null,
   "id": "73dc50ae-8762-4606-af87-6334d7c61a15",
   "metadata": {},
   "outputs": [],
   "source": [
    "분산이 크면 Overfitting으로 생각할수 있을까? 이럴때 regularization 을 더 해주면 분산이 줄어들것 같은데? 시도해 볼만한ㅇ"
   ]
  },
  {
   "cell_type": "code",
   "execution_count": 26,
   "id": "8adeeac0-ab9e-4381-984f-428e79de8993",
   "metadata": {},
   "outputs": [
    {
     "data": {
      "text/plain": [
       "{'fit_time': array([0.78490067, 1.74633217, 1.13400245, 0.57150459, 0.97141027]),\n",
       " 'score_time': array([0.00199509, 0.00199485, 0.00296092, 0.00198388, 0.00198388]),\n",
       " 'test_f1_macro': array([0.94222973, 0.92382225, 0.97158288, 0.91474865, 0.95327876]),\n",
       " 'train_f1_macro': array([0.96929267, 0.97414359, 0.95269877, 0.97401687, 0.96948215]),\n",
       " 'test_recall': array([1.        , 0.97183099, 0.98611111, 0.94444444, 0.94366197]),\n",
       " 'train_recall': array([0.98251748, 0.97902098, 0.9754386 , 0.98947368, 0.97902098])}"
      ]
     },
     "execution_count": 26,
     "metadata": {},
     "output_type": "execute_result"
    }
   ],
   "source": [
    "cross_validate(clf, X, y, cv=5, scoring=['f1_macro','recall'], return_train_score=True)"
   ]
  },
  {
   "cell_type": "code",
   "execution_count": 27,
   "id": "a4233846-dd1d-4d6c-854b-481c0c9662b6",
   "metadata": {},
   "outputs": [
    {
     "data": {
      "text/plain": [
       "{'fit_time': array([0.8447423 , 1.71541381, 1.12103629, 0.59143257, 0.97739053]),\n",
       " 'score_time': array([0.00199485, 0.00199485, 0.00098705, 0.00198984, 0.00199246]),\n",
       " 'test_f1_macro': array([0.94222973, 0.92382225, 0.97158288, 0.91474865, 0.95327876]),\n",
       " 'test_recall': array([1.        , 0.97183099, 0.98611111, 0.94444444, 0.94366197])}"
      ]
     },
     "execution_count": 27,
     "metadata": {},
     "output_type": "execute_result"
    }
   ],
   "source": [
    "cross_validate(clf, X, y, cv=5, scoring=['f1_macro','recall'], return_train_score=False)"
   ]
  },
  {
   "cell_type": "code",
   "execution_count": null,
   "id": "eedad2af-2a4d-4ff8-8089-b18ed5c6d587",
   "metadata": {},
   "outputs": [],
   "source": []
  }
 ],
 "metadata": {
  "kernelspec": {
   "display_name": "Python 3",
   "language": "python",
   "name": "python3"
  },
  "language_info": {
   "codemirror_mode": {
    "name": "ipython",
    "version": 3
   },
   "file_extension": ".py",
   "mimetype": "text/x-python",
   "name": "python",
   "nbconvert_exporter": "python",
   "pygments_lexer": "ipython3",
   "version": "3.8.8"
  }
 },
 "nbformat": 4,
 "nbformat_minor": 5
}
